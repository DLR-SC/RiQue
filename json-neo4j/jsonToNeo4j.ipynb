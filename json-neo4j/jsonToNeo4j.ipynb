{
 "cells": [
  {
   "cell_type": "code",
   "execution_count": 1,
   "metadata": {},
   "outputs": [],
   "source": [
    "import json \n",
    "import py2neo # library used to comunicate with database\n",
    "from py2neo import Graph, Node, Relationship, Database, RelationshipMatcher\n"
   ]
  },
  {
   "cell_type": "markdown",
   "metadata": {},
   "source": [
    "## Create object of the graph database along with its username and password"
   ]
  },
  {
   "cell_type": "code",
   "execution_count": 4,
   "metadata": {},
   "outputs": [],
   "source": [
    "graph = Graph(\"http://localhost:7474\", auth=(\"neo4j\", \"123456\"))"
   ]
  },
  {
   "cell_type": "markdown",
   "metadata": {},
   "source": [
    "# Convert Json file to graphs\n",
    "\n",
    "In order to convert json source file to graph database, we use neo4j database which uses cypher query language. To visualize the graph, login to  http://localhost:7474"
   ]
  },
  {
   "cell_type": "code",
   "execution_count": 6,
   "metadata": {},
   "outputs": [
    {
     "data": {
      "text/plain": [
       "[]"
      ]
     },
     "execution_count": 6,
     "metadata": {},
     "output_type": "execute_result"
    }
   ],
   "source": [
    "# load json file\n",
    "with open('./data/rte.json') as data_file:\n",
    "    json_ = json.load(data_file)\n",
    "\n",
    "# write cypher query\n",
    "query = '''\n",
    "WITH {json} as document\n",
    "UNWIND document.bundles AS p\n",
    "MERGE (b: bundles {name:p.name, className:p.eClass}) SET b.symbolicName=p.symbolicName\n",
    "FOREACH (imp IN p.imports | \n",
    "MERGE(im: PackagesImports {name:substring(imp.ref, 3,10)}) SET im.FullName=imp.ref \n",
    "MERGE(b)-[:Imports]->(im))\n",
    "\n",
    "FOREACH (exp IN p.exports | \n",
    "    MERGE(ex: PackagesExports {name:substring(exp.ref, 3,10)} ) SET ex.FullName=exp.ref \n",
    "    MERGE(b)-[:Exports]->(ex))\n",
    "\n",
    "FOREACH (pkg IN p.packages | \n",
    "\n",
    "    MERGE(pk: Packages {name:right(pkg.ref,3)} ) SET pk.FullName=pkg.ref \n",
    "    MERGE(b)-[:Uses_Pkgs]->(pk))\n",
    "    \n",
    "    // Iterate through components\n",
    "    \n",
    "FOREACH (comp IN p.components | \n",
    "\n",
    "    MERGE (b)-[:Uses_Components]-> (c: Components {name:comp.name} ) SET c.className=comp.eClass, \n",
    "        c.implementation = comp.implementation.ref,\n",
    "        c.bundle = comp.bundle.ref\n",
    "        \n",
    "        // Iterate through provided services\n",
    "        FOREACH (service in comp.providedServices| \n",
    "             MERGE(c)-[:uses_services]->(sr: ComponentServices {name: substring(service.ref, 3, size(service.ref)-1) }) )\n",
    "        \n",
    "    )\n",
    "\n",
    "FOREACH (pkgfrag IN p.packageFragments |\n",
    "    MERGE(b)-[:Pkg_fragment]->(fragment: PackageFragments {name:pkgfrag.eClass}) SET fragment.className = pkgfrag.eClass\n",
    "    MERGE(fragment)-[:Pack_By_Frag]->(pack: FragPackages {name:pkgfrag.package.ref})\n",
    "    MERGE(fragment)-[:Bundle_By_Frag]->(bund: FragBundle {name:substring(pkgfrag.bundle.ref, 3, size(pkgfrag.bundle.ref)-1)})\n",
    "\n",
    "    // Since compilation units is list so we need to iterate\n",
    "    FOREACH (cmp IN pkgfrag.compilationUnits | \n",
    "        MERGE(fragment)-[:compiled_By]->(u: Units{name:substring(cmp.name, 0, size(cmp.name)-5)}) SET u.className = cmp.eClass, u.Loc = cmp.LOC \n",
    "\n",
    "        // go through PkgFragment inside compilationUnits -> packageFragment\n",
    "        MERGE(u)-[:compiledUnits_pkgFragment]->\n",
    "        (CPkFrag: compiledUF {name:substring(cmp.packageFragment.ref, 3, size(cmp.packageFragment.ref)-2)}) \n",
    "\n",
    "        // go through PkgFragment inside compilationUnits -> topLevelType\n",
    "\n",
    "        MERGE(u)-[:compiledUnits_topLevelType]->\n",
    "        (CPtpLevelType: compiledTopLevelType {name:cmp.topLevelType.name}) SET  CPtpLevelType.className = cmp.topLevelType.eClass,\n",
    "        CPtpLevelType.visibility = cmp.topLevelType.visibility, \n",
    "        CPtpLevelType.qualifiedName = cmp.topLevelType.qualifiedName\n",
    "\n",
    "        // Inside topLevelType > compilationUnit\n",
    "\n",
    "        MERGE(CPtpLevelType) -[:topLevelType_compilationUnit]->\n",
    "        (topLevel_cUnit: compilationUnit {name: cmp.topLevelType.compilationUnit.ref } ) \n",
    "        SET topLevel_cUnit.ref = cmp.topLevelType.compilationUnit.ref\n",
    "\n",
    "\n",
    "        // Inside topLevelType > references\n",
    "\n",
    "        FOREACH (refer IN cmp.topLevelType.references |\n",
    "            MERGE(CPtpLevelType)-[:topLevelType_reference]->(referTL: References {name:substring(refer.ref, 31, size(refer.ref)-1)})\n",
    "            SET referTL.ref = refer.ref\n",
    "        )\n",
    "        \n",
    "        // Inside topLevelType > External references\n",
    "\n",
    "        FOREACH (erefer IN cmp.topLevelType.externalReferences |\n",
    "            MERGE(CPtpLevelType)-[:topLevelType_EReference]->\n",
    "                (ereferTL: eReferences {name:erefer.ref})\n",
    "            SET ereferTL.ref = erefer.ref\n",
    "        )\n",
    "        \n",
    "        // Inside topLevelType > Constructors\n",
    "\n",
    "        FOREACH (const IN cmp.topLevelType.constructors |\n",
    "            MERGE(CPtpLevelType)-[:topLevelType_Const]->\n",
    "                (constTL: Constructor {name:const.eClass})\n",
    "            SET constTL.eClass = const.eClass,\n",
    "                constTL.visibility = const.visibility,\n",
    "                constTL.LOC = const.LOC\n",
    "        )\n",
    "        \n",
    "        // Inside topLevelType > methods\n",
    "\n",
    "        FOREACH (methd IN cmp.topLevelType.methods |\n",
    "            MERGE(CPtpLevelType)-[:Methods_Contains]->\n",
    "                (methodTL: Methods {name:methd.name})\n",
    "            SET methodTL.eClass = methd.eClass,\n",
    "                methodTL.name = methd.name,\n",
    "                methodTL.visibility = methd.visibility,\n",
    "                methodTL.LOC = methd.LOC\n",
    "        )\n",
    "        \n",
    "        // Inside topLevelType > fields\n",
    "\n",
    "        FOREACH (field IN cmp.topLevelType.fields |\n",
    "            MERGE(CPtpLevelType)-[:Methods_Contains]->\n",
    "                (fieldTL: Methods {name:field.name})\n",
    "            SET fieldTL.eClass = field.eClass,\n",
    "                fieldTL.name = field.name,\n",
    "                fieldTL.visibility = field.visibility,\n",
    "                \n",
    "                fieldTL.modify_0 = field.modifier[0],\n",
    "                fieldTL.modify_1 = field.modifier[1]\n",
    "\n",
    "                \n",
    "                \n",
    "        )\n",
    "        \n",
    "    )\n",
    ")\n",
    "\n",
    "MERGE (v: Version {name:(\"Version \" + p.version.major)}) SET \n",
    "  v.className = p.version.eClass,\n",
    "  v.major=p.version.major, \n",
    "  v.minor=p.version.minor,\n",
    "  v.micro=p.version.micro,\n",
    "  v.qualifier=p.version.qualifier\n",
    "  \n",
    " MERGE(b)-[:VersionNum]->(v)  \n",
    " \n",
    "// Iterate through services\n",
    "\n",
    "WITH {json} as document\n",
    "UNWIND document.services AS s\n",
    "\n",
    "MERGE (ser: service {name:s.interfaceName, className:s.eClass}) SET ser.interface = s.interface.ref\n",
    "\n",
    "\n",
    "// Iterate through externalTypes\n",
    "\n",
    "WITH {json} as document\n",
    "UNWIND document.externalTypes AS e\n",
    " \n",
    "MERGE (eTyp: eTypes {name:e.qualifiedName, className:e.eClass}) \n",
    "'''\n",
    "\n",
    "\n",
    "# To get relations of particular node\n",
    "# MATCH (n:classes) where n.name='RCE Excel Component Execution' return (n)-[]->()\n",
    "\n",
    "#send query to the database\n",
    "graph.run(query, json=json_).data()\n"
   ]
  },
  {
   "cell_type": "markdown",
   "metadata": {},
   "source": [
    "# query from database"
   ]
  },
  {
   "cell_type": "code",
   "execution_count": 12,
   "metadata": {},
   "outputs": [
    {
     "name": "stdout",
     "output_type": "stream",
     "text": [
      "Packages imported by class: RCE Excel Component GUI Bundle are: \n"
     ]
    },
    {
     "data": {
      "text/plain": [
       "[(RCE Excel Component GUI Bundle)-[:Imports {}]->(bundles.47),\n",
       " (RCE Excel Component GUI Bundle)-[:Imports {}]->(bundles.48)]"
      ]
     },
     "execution_count": 12,
     "metadata": {},
     "output_type": "execute_result"
    }
   ],
   "source": [
    "# to determine the packages that are imported by class \"RCE Excel Component GUI Bundle\" \n",
    "v = 'RCE Excel Component GUI Bundle'\n",
    "nodes = graph.nodes.match(\"classes\", name=v).first()\n",
    "\n",
    "print (\"Packages imported by class: \" + v + \" are: \")\n",
    "list(graph.relationships.match((nodes, None), \"Imports\") \n",
    "              .limit(3))"
   ]
  }
 ],
 "metadata": {
  "kernelspec": {
   "display_name": "Python 3",
   "language": "python",
   "name": "python3"
  },
  "language_info": {
   "codemirror_mode": {
    "name": "ipython",
    "version": 3
   },
   "file_extension": ".py",
   "mimetype": "text/x-python",
   "name": "python",
   "nbconvert_exporter": "python",
   "pygments_lexer": "ipython3",
   "version": "3.6.5"
  }
 },
 "nbformat": 4,
 "nbformat_minor": 2
}
